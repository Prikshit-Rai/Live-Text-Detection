{
 "cells": [
  {
   "cell_type": "code",
   "execution_count": 1,
   "id": "b4a4298b",
   "metadata": {},
   "outputs": [],
   "source": [
    "from imutils.video import VideoStream\n",
    "from imutils.video import FPS\n",
    "from imutils.object_detection import non_max_suppression\n",
    "import numpy as np\n",
    "import argparse\n",
    "import imutils\n",
    "import time\n",
    "import cv2\n",
    "import pytesseract"
   ]
  },
  {
   "cell_type": "code",
   "execution_count": 2,
   "id": "5e3d27cd",
   "metadata": {},
   "outputs": [],
   "source": [
    "def decode_predictions(scores, geometry):\n",
    "\t(numRows, numCols) = scores.shape[2:4]\n",
    "\trects = []\n",
    "\tconfidences = []\n",
    "\n",
    "\tfor y in range(0, numRows):\n",
    "\t\tscoresData = scores[0, 0, y]\n",
    "\t\txData0 = geometry[0, 0, y]\n",
    "\t\txData1 = geometry[0, 1, y]\n",
    "\t\txData2 = geometry[0, 2, y]\n",
    "\t\txData3 = geometry[0, 3, y]\n",
    "\t\tanglesData = geometry[0, 4, y]\n",
    "\n",
    "\t\tfor x in range(0, numCols):\n",
    "\t\t\tif scoresData[x] < args[\"min_confidence\"]:\n",
    "\t\t\t\tcontinue\n",
    "\n",
    "\t\t\t(offsetX, offsetY) = (x * 4.0, y * 4.0)\n",
    "\n",
    "\t\t\tangle = anglesData[x]\n",
    "\t\t\tcos = np.cos(angle)\n",
    "\t\t\tsin = np.sin(angle)\n",
    "\n",
    "\t\t\th = xData0[x] + xData2[x]\n",
    "\t\t\tw = xData1[x] + xData3[x]\n",
    "\n",
    "\t\t\tendX = int(offsetX + (cos * xData1[x]) + (sin * xData2[x]))\n",
    "\t\t\tendY = int(offsetY - (sin * xData1[x]) + (cos * xData2[x]))\n",
    "\t\t\tstartX = int(endX - w)\n",
    "\t\t\tstartY = int(endY - h)\n",
    "\n",
    "\t\t\trects.append((startX, startY, endX, endY))\n",
    "\t\t\tconfidences.append(scoresData[x])\n",
    "\n",
    "\treturn (rects, confidences)"
   ]
  },
  {
   "cell_type": "code",
   "execution_count": 3,
   "id": "793cd269",
   "metadata": {},
   "outputs": [],
   "source": [
    "args = {\"video\":\"board.mp4\", \"east\":\"east_text_detection.pb\",\"min_confidence\":0.5,\"width\":320,\"height\":320}"
   ]
  },
  {
   "cell_type": "code",
   "execution_count": 4,
   "id": "8b90fa03",
   "metadata": {},
   "outputs": [],
   "source": [
    "(W, H) = (None, None)\n",
    "(newW, newH) = (args[\"width\"], args[\"height\"])\n",
    "(rW, rH) = (None, None)"
   ]
  },
  {
   "cell_type": "code",
   "execution_count": 5,
   "id": "53fd0bd7",
   "metadata": {},
   "outputs": [
    {
     "name": "stdout",
     "output_type": "stream",
     "text": [
      "[INFO] loading EAST text detector...\n"
     ]
    }
   ],
   "source": [
    "layerNames = [\"feature_fusion/Conv_7/Sigmoid\", \"feature_fusion/concat_3\"]\n",
    "print(\"[INFO] loading EAST text detector...\")\n",
    "net = cv2.dnn.readNet(args[\"east\"])"
   ]
  },
  {
   "cell_type": "code",
   "execution_count": 6,
   "id": "6fa0530c",
   "metadata": {},
   "outputs": [],
   "source": [
    "if not args.get(\"video\", False):\n",
    "\tprint(\"[INFO] starting video stream...\")\n",
    "\tvs = VideoStream(src=0).start()\n",
    "\ttime.sleep(1.0)\n",
    "else:\n",
    "\tvs = cv2.VideoCapture(args[\"video\"])\n",
    "fps = FPS().start()"
   ]
  },
  {
   "cell_type": "code",
   "execution_count": null,
   "id": "55213877",
   "metadata": {},
   "outputs": [],
   "source": [
    "while True:\n",
    "\tframe = vs.read()\n",
    "\tframe = frame[1] if args.get(\"video\", False) else frame\n",
    "\n",
    "\tif frame is None:\n",
    "\t\tbreak\n",
    "\tframe = imutils.resize(frame, width=1000)\n",
    "\torig = frame.copy()\n",
    "\tif W is None or H is None:\n",
    "\t\t(H, W) = frame.shape[:2]\n",
    "\t\trW = W / float(newW)\n",
    "\t\trH = H / float(newH)\n",
    "\tframe = cv2.resize(frame, (newW, newH))\n",
    "    \n",
    "\tblob = cv2.dnn.blobFromImage(frame, 1.0, (newW, newH),(123.68, 116.78, 103.94), swapRB=True, crop=False)\n",
    "    \n",
    "\tnet.setInput(blob)\n",
    "\t(scores, geometry) = net.forward(layerNames)\n",
    "    \n",
    "\t(rects, confidences) = decode_predictions(scores, geometry)\n",
    "\tboxes = non_max_suppression(np.array(rects), probs=confidences)\n",
    "\tresults = []\n",
    "    \n",
    "\tfor (startX, startY, endX, endY) in boxes:\n",
    "\t\tstartX = int(startX * rW)\n",
    "\t\tstartY = int(startY * rH)\n",
    "\t\tendX = int(endX * rW)\n",
    "\t\tendY = int(endY * rH)\n",
    "\t\tcv2.rectangle(orig, (startX, startY), (endX, endY),(0, 0, 255), 2)\n",
    "\t\tr = orig[startY:endY, startX:endX]\n",
    "\tfps.update()\n",
    "\tcv2.imshow(\"Broad Detection\", orig)\n",
    "\tkey = cv2.waitKey(1) & 0xFF\n",
    "\tif key == ord(\"q\"):\n",
    "\t\tbreak"
   ]
  },
  {
   "cell_type": "code",
   "execution_count": null,
   "id": "c99bffde",
   "metadata": {},
   "outputs": [],
   "source": [
    "if not args.get(\"video\", False):\n",
    "\tvs.stop()\n",
    "else:\n",
    "\tvs.release()\n",
    "cv2.destroyAllWindows()"
   ]
  },
  {
   "cell_type": "code",
   "execution_count": null,
   "id": "a22f8616",
   "metadata": {},
   "outputs": [],
   "source": []
  }
 ],
 "metadata": {
  "kernelspec": {
   "display_name": "Python 3 (ipykernel)",
   "language": "python",
   "name": "python3"
  },
  "language_info": {
   "codemirror_mode": {
    "name": "ipython",
    "version": 3
   },
   "file_extension": ".py",
   "mimetype": "text/x-python",
   "name": "python",
   "nbconvert_exporter": "python",
   "pygments_lexer": "ipython3",
   "version": "3.9.12"
  }
 },
 "nbformat": 4,
 "nbformat_minor": 5
}
